{
  "nbformat": 4,
  "nbformat_minor": 0,
  "metadata": {
    "colab": {
      "provenance": []
    },
    "kernelspec": {
      "name": "python3",
      "display_name": "Python 3"
    },
    "language_info": {
      "name": "python"
    },
    "gpuClass": "standard",
    "accelerator": "GPU"
  },
  "cells": [
    {
      "cell_type": "code",
      "execution_count": null,
      "metadata": {
        "id": "QSE8kGpHQ_u8"
      },
      "outputs": [],
      "source": [
        "#Commands to access the datasets on Kaggle\n",
        "#Make a seperate directory for kaggle and give access for Kaggle to export datasets\n",
        "! mkdir ~/.kaggle\n",
        "! cp kaggle.json ~/.kaggle/\n",
        "! chmod 600 ~/.kaggle/kaggle.json"
      ]
    },
    {
      "cell_type": "code",
      "source": [
        "#Download the dataset\n",
        "!kaggle datasets download -d uraninjo/augmented-alzheimer-mri-dataset"
      ],
      "metadata": {
        "colab": {
          "base_uri": "https://localhost:8080/"
        },
        "id": "ze4DZ7jlRP8Q",
        "outputId": "cee61e53-97e5-4c98-b40d-b916feb759e8"
      },
      "execution_count": null,
      "outputs": [
        {
          "output_type": "stream",
          "name": "stdout",
          "text": [
            "Downloading augmented-alzheimer-mri-dataset.zip to /content\n",
            "100% 378M/380M [00:22<00:00, 20.6MB/s]\n",
            "100% 380M/380M [00:22<00:00, 18.1MB/s]\n"
          ]
        }
      ]
    },
    {
      "cell_type": "markdown",
      "source": [
        "The datasets consists only images, which are divided into four categories, namely:\n",
        "1. Very MildDemented\n",
        "2. Mild Demented\n",
        "3. Moderate Demented\n",
        "4. Non-Demented\n",
        "\n",
        "The dataset is currently downloaded in a zipfile format. Unzip the folder to access the data."
      ],
      "metadata": {
        "id": "UjNVGIuCUzT5"
      }
    },
    {
      "cell_type": "code",
      "source": [
        "#Unzipping the zipfile of images\n",
        "import zipfile\n",
        "\n",
        "data_zip = zipfile.ZipFile('/content/augmented-alzheimer-mri-dataset.zip')\n",
        "data_zip.extractall()\n",
        "data_zip.close()"
      ],
      "metadata": {
        "id": "1L0scLnuRSid"
      },
      "execution_count": null,
      "outputs": []
    },
    {
      "cell_type": "markdown",
      "source": [
        "There are two folders in the datasets- One with original images and the other with augmented images.\n",
        "\n",
        "Seperate them by assigning them as testing and training, respectively."
      ],
      "metadata": {
        "id": "emOymWk_V1D7"
      }
    },
    {
      "cell_type": "code",
      "source": [
        "!kaggle datasets download -d pranavraikokte/covid19-image-dataset"
      ],
      "metadata": {
        "colab": {
          "base_uri": "https://localhost:8080/"
        },
        "id": "3tcjzxH5XsAD",
        "outputId": "489b5a8f-7894-4fad-fac6-5ea27cc99e42"
      },
      "execution_count": null,
      "outputs": [
        {
          "output_type": "stream",
          "name": "stdout",
          "text": [
            "Downloading covid19-image-dataset.zip to /content\n",
            "  0% 0.00/158M [00:00<?, ?B/s]\n",
            "User cancelled operation\n"
          ]
        }
      ]
    },
    {
      "cell_type": "code",
      "source": [
        "#Unzipping the zipfile of images\n",
        "import zipfile\n",
        "\n",
        "data_zip = zipfile.ZipFile('/content/covid19-image-dataset.zip')\n",
        "data_zip.extractall()\n",
        "data_zip.close()"
      ],
      "metadata": {
        "id": "IV3PekNQXwUj"
      },
      "execution_count": null,
      "outputs": []
    },
    {
      "cell_type": "code",
      "source": [
        "#Create seperate directories for training and testing images.\n",
        "\n",
        "train_dir = '/content/AugmentedAlzheimerDataset/'\n",
        "test_dir = '/content/OriginalDataset'"
      ],
      "metadata": {
        "id": "hLGyAIUvRvp3"
      },
      "execution_count": null,
      "outputs": []
    },
    {
      "cell_type": "code",
      "source": [
        "#Import all the required libraries for data pre-processing and training.\n",
        "\n",
        "import pandas as pd\n",
        "import numpy as np\n",
        "import matplotlib.pyplot as plt\n",
        "import tensorflow as tf\n",
        "from tensorflow.keras.preprocessing.image import ImageDataGenerator\n",
        "from tensorflow.keras import layers"
      ],
      "metadata": {
        "id": "npa3QKdtSqDz"
      },
      "execution_count": null,
      "outputs": []
    },
    {
      "cell_type": "markdown",
      "source": [
        "The images are further partitioned into training and validation images with 80% training and 20% validation."
      ],
      "metadata": {
        "id": "rOOO47XcWvUK"
      }
    },
    {
      "cell_type": "code",
      "source": [
        "#Create instances of ImageDataGenerator by setting a rescale value and validation split.\n",
        "\n",
        "train_datagen = ImageDataGenerator(rescale = 1/255. , validation_split = 0.2)\n",
        "test_datagen = ImageDataGenerator(rescale = 1/255.)"
      ],
      "metadata": {
        "id": "f3l6i_0haKbY"
      },
      "execution_count": null,
      "outputs": []
    },
    {
      "cell_type": "code",
      "source": [
        "train_data = train_datagen.flow_from_directory(train_dir ,\n",
        "                                               target_size = (224 , 224),    #Set image size.\n",
        "                                               batch_size = 32,              #Set appropriate batch size to avoid overfitting.\n",
        "                                               class_mode = 'categorical',   #Set type of labels.\n",
        "                                               subset = 'training')\n",
        "\n",
        "valid_data = train_datagen.flow_from_directory(train_dir,\n",
        "                                               target_size = (224 , 224),\n",
        "                                               batch_size = 32,\n",
        "                                               class_mode = 'categorical',\n",
        "                                               subset = 'validation')\n",
        "\n",
        "test_data = test_datagen.flow_from_directory(test_dir,\n",
        "                                             target_size = (224 , 224),         #Images from the OriginalDataset directory to be used for testing only\n",
        "                                             batch_size = 32,\n",
        "                                             class_mode = 'categorical')"
      ],
      "metadata": {
        "colab": {
          "base_uri": "https://localhost:8080/"
        },
        "id": "wFHKbzXVd1ka",
        "outputId": "d05375b8-ab72-409d-8c39-ef33cea8d324"
      },
      "execution_count": null,
      "outputs": [
        {
          "output_type": "stream",
          "name": "stdout",
          "text": [
            "Found 27188 images belonging to 4 classes.\n",
            "Found 6796 images belonging to 4 classes.\n",
            "Found 6400 images belonging to 4 classes.\n"
          ]
        }
      ]
    },
    {
      "cell_type": "code",
      "source": [
        "#Define a function to plot the loss and accuracy curves of model training for better visualization.\n",
        "\n",
        "def loss_and_accuracy(history):\n",
        "\n",
        "  loss = history.history['loss']\n",
        "  val_loss = history.history['val_loss']\n",
        "\n",
        "  accuracy = history.history['accuracy']\n",
        "  val_accuracy = history.history['val_accuracy']\n",
        "\n",
        "  epochs = range(len(history.history['loss']))\n",
        "\n",
        "  plt.plot(epochs , loss , label = 'Training Loss')\n",
        "  plt.plot(epochs , val_loss , label = 'Validation Loss')            #Loss curve\n",
        "  plt.title('Loss Curve')\n",
        "  plt.xlabel('epochs')\n",
        "  plt.legend()\n",
        "  plt.savefig('Loss_Curve.jpg')\n",
        "\n",
        "  plt.figure()\n",
        "\n",
        "  plt.plot(epochs , accuracy , label = 'training_accuracy')\n",
        "  plt.plot(epochs , val_accuracy , label = 'validation_accuracy')    #Accuracy curve\n",
        "  plt.title('Accuracy Curve')\n",
        "  plt.yticks([0,0.2,0.4,0.6,0.8,1])\n",
        "  plt.xlabel('epochs')\n",
        "  plt.legend()\n",
        "  plt.savefig('Accuracy_Curve.jpg')"
      ],
      "metadata": {
        "id": "0e_qf5PYj051"
      },
      "execution_count": null,
      "outputs": []
    },
    {
      "cell_type": "code",
      "source": [
        "#Give the classnames as a list\n",
        "classnames = ['Mild Demented' , 'Moderate Demented' , 'Non-Demented' , 'Very Mild Demented']"
      ],
      "metadata": {
        "id": "M-szW0c1t6Qe"
      },
      "execution_count": null,
      "outputs": []
    },
    {
      "cell_type": "code",
      "source": [
        "#Define a function to prepare an image for prediction\n",
        "\n",
        "def image_prep(filename , img_size = 224):\n",
        "  #Read the image from filename\n",
        "  image = tf.io.read_file(filename)\n",
        "  #Decode the image into its RGB channels\n",
        "  image = tf.image.decode_image(image , channels = 3)\n",
        "  #Resize the image\n",
        "  image = tf.image.resize(image , size = [img_size , img_size])\n",
        "  #Rescale\n",
        "  image = image/255.\n",
        "\n",
        "  return image"
      ],
      "metadata": {
        "id": "y4yXfz8GooF8"
      },
      "execution_count": null,
      "outputs": []
    },
    {
      "cell_type": "code",
      "source": [
        "#Define a function to make predictions on the prepared images\n",
        "#Image along with the classified label is shown as output\n",
        "\n",
        "def make_predictions(model , filename , classnames):\n",
        "  #Load the image\n",
        "  image = image_prep(filename)\n",
        "  #Run the model on the image\n",
        "  pred = model.predict(tf.expand_dims(image , axis=0))\n",
        "  #Zero down on the class\n",
        "  pred_class = classnames[tf.argmax(tf.round(pred)[0])]\n",
        "  #Show the image and the label\n",
        "  plt.imshow(image)\n",
        "  plt.title(f'Predicted class: {pred_class}')\n",
        "  plt.axis(False)"
      ],
      "metadata": {
        "id": "Wc3KhKbQtxGf"
      },
      "execution_count": null,
      "outputs": []
    },
    {
      "cell_type": "code",
      "source": [
        "#Create an EarlyStopping callback method that stops training when accuracy does not improve.\n",
        "\n",
        "callback = tf.keras.callbacks.EarlyStopping(monitor='accuracy' , patience=3)"
      ],
      "metadata": {
        "id": "O2oarYFXcEwF"
      },
      "execution_count": null,
      "outputs": []
    },
    {
      "cell_type": "code",
      "source": [
        "model_1 = tf.keras.Sequential([\n",
        "    layers.Conv2D(128 , 2 , activation = 'relu'),\n",
        "    layers.MaxPool2D(),\n",
        "    layers.Conv2D(128 , 2 , activation = 'relu'),\n",
        "    layers.MaxPool2D(),\n",
        "    layers.Flatten(),\n",
        "    layers.Dense(4 , activation = 'softmax')\n",
        "])"
      ],
      "metadata": {
        "id": "cNNehQ-xhR-B"
      },
      "execution_count": null,
      "outputs": []
    },
    {
      "cell_type": "code",
      "source": [
        "model_1.compile(loss = 'categorical_crossentropy',\n",
        "                optimizer = tf.keras.optimizers.Adam(),\n",
        "                metrics = ['accuracy'])"
      ],
      "metadata": {
        "id": "JsK2g3FVhR6I"
      },
      "execution_count": null,
      "outputs": []
    },
    {
      "cell_type": "code",
      "source": [
        "history_1 = model_1.fit(train_data,\n",
        "                        epochs = 50,\n",
        "                        steps_per_epoch = int(0.1*len(train_data)),\n",
        "                        validation_data = valid_data,\n",
        "                        callbacks = [callback],\n",
        "                        verbose = 0)"
      ],
      "metadata": {
        "id": "DlZ-ixdAhR2J"
      },
      "execution_count": null,
      "outputs": []
    },
    {
      "cell_type": "code",
      "source": [
        "len(history_1.history['loss'])"
      ],
      "metadata": {
        "colab": {
          "base_uri": "https://localhost:8080/"
        },
        "id": "syAR0kv0kCPJ",
        "outputId": "ffac7114-4c74-49ed-dfcb-74e59c15a65f"
      },
      "execution_count": null,
      "outputs": [
        {
          "output_type": "execute_result",
          "data": {
            "text/plain": [
              "21"
            ]
          },
          "metadata": {},
          "execution_count": 30
        }
      ]
    },
    {
      "cell_type": "code",
      "source": [
        "model_1.evaluate(train_data)"
      ],
      "metadata": {
        "colab": {
          "base_uri": "https://localhost:8080/"
        },
        "id": "KMxWXVgwkFzl",
        "outputId": "5ca07f3f-0605-4d23-f3ac-d922e21ef0c4"
      },
      "execution_count": null,
      "outputs": [
        {
          "output_type": "stream",
          "name": "stdout",
          "text": [
            "850/850 [==============================] - 54s 64ms/step - loss: 0.3411 - accuracy: 0.8797\n"
          ]
        },
        {
          "output_type": "execute_result",
          "data": {
            "text/plain": [
              "[0.34107255935668945, 0.8796895742416382]"
            ]
          },
          "metadata": {},
          "execution_count": 31
        }
      ]
    },
    {
      "cell_type": "code",
      "source": [
        "loss_and_accuracy(history = history_1)"
      ],
      "metadata": {
        "colab": {
          "base_uri": "https://localhost:8080/",
          "height": 573
        },
        "id": "io5y4zjghf8R",
        "outputId": "20175727-66b4-43a6-9631-c56a3c090e45"
      },
      "execution_count": null,
      "outputs": [
        {
          "output_type": "display_data",
          "data": {
            "text/plain": [
              "<Figure size 432x288 with 1 Axes>"
            ],
            "image/png": "[encoded data removed]"
          },
          "metadata": {
            "needs_background": "light"
          }
        },
        {
          "output_type": "display_data",
          "data": {
            "text/plain": [
              "<Figure size 432x288 with 1 Axes>"
            ],
            "image/png": "[encoded data removed]"
          },
          "metadata": {
            "needs_background": "light"
          }
        }
      ]
    },
    {
      "cell_type": "code",
      "source": [
        "make_predictions(model_1 , '/content/OriginalDataset/VeryMildDemented/26 (45).jpg' , classnames )"
      ],
      "metadata": {
        "colab": {
          "base_uri": "https://localhost:8080/",
          "height": 281
        },
        "id": "Chlb60w3hf4i",
        "outputId": "7ec47211-161c-4769-ab9e-55ccfd7cbf3e"
      },
      "execution_count": null,
      "outputs": [
        {
          "output_type": "stream",
          "name": "stdout",
          "text": [
            "1/1 [==============================] - 0s 182ms/step\n"
          ]
        },
        {
          "output_type": "display_data",
          "data": {
            "text/plain": [
              "<Figure size 432x288 with 1 Axes>"
            ],
            "image/png": "[encoded data removed]"
          },
          "metadata": {
            "needs_background": "light"
          }
        }
      ]
    }
  ]
}